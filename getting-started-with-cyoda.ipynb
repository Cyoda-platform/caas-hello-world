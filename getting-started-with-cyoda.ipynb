{
 "cells": [
  {
   "cell_type": "markdown",
   "metadata": {},
   "source": [
    "# Intro to model management, importing and searching for data\n",
    "## Install libs"
   ]
  },
  {
   "cell_type": "code",
   "execution_count": null,
   "metadata": {},
   "outputs": [],
   "source": [
    "import sys\n",
    "!{sys.executable} -m pip install requests"
   ]
  },
  {
   "cell_type": "markdown",
   "metadata": {},
   "source": [
    "## Basic Variables\n",
    "### Credentials\n",
    "If you aren't authentication with auth0, you need to use our simple refresh/access token approach. This requires a username and password to login"
   ]
  },
  {
   "cell_type": "code",
   "execution_count": null,
   "metadata": {},
   "outputs": [],
   "source": [
    "import getpass\n",
    "from pathlib import Path\n",
    "\n",
    "default_username = 'demo.user'\n",
    "#username = input(f\"Enter your username [{default_username}]: \") or default_username\n",
    "\n",
    "username = default_username\n",
    "password_file = Path('/Users/paul/.cyoda/demo.passwd')\n",
    "\n",
    "if password_file.exists():\n",
    "    # Your action here, e.g., read the file, etc.\n",
    "    with password_file.open('r') as file:\n",
    "        password = file.read().rstrip()\n",
    "else:\n",
    "    # Prompt for credentials when the notebook runs\n",
    "    password = getpass.getpass(\"Enter your password: \")\n",
    "\n",
    "credentials = {\n",
    "    'username': username,\n",
    "    'password': password\n",
    "}"
   ]
  },
  {
   "cell_type": "markdown",
   "metadata": {},
   "source": [
    "### Parameters and Endpoints"
   ]
  },
  {
   "cell_type": "code",
   "execution_count": null,
   "metadata": {},
   "outputs": [],
   "source": [
    "#namespace = 'put your cyoda namespace here'\n",
    "# api_url = f\"https://{namespace}.cyoda.net/api\"\n",
    "\n",
    "# As a Cyoda developer, I can run the service on my laptop. :-)\n",
    "api_url = 'http://localhost:8082/api'\n",
    "\n",
    "# Well be using this model name and version\n",
    "model_name = 'prizes'\n",
    "model_version = 1\n",
    "\n",
    "# Dummy values, to be set later\n",
    "entity_id=''\n",
    "update_transition='UPDATE'\n",
    "\n",
    "login_endpoint = f\"{api_url}/auth/login\"\n",
    "token_endpoint = f\"{api_url}/auth/token\""
   ]
  },
  {
   "cell_type": "markdown",
   "metadata": {},
   "source": [
    "## Some access token functions\n"
   ]
  },
  {
   "cell_type": "code",
   "execution_count": null,
   "metadata": {},
   "outputs": [],
   "source": [
    "import requests\n",
    "import json\n",
    "import sys\n",
    "\n",
    "def login_and_get_refresh_token(credentials):\n",
    "\n",
    "    headers = {\n",
    "        'X-Requested-With': 'XMLHttpRequest',\n",
    "        'Content-Type': 'application/json'\n",
    "    }\n",
    "    \n",
    "    payload = json.dumps(credentials)\n",
    "    \n",
    "    response = requests.post(login_endpoint, headers=headers, data=payload)\n",
    "\n",
    "    if response.status_code == 200:\n",
    "        # Assuming the refresh token is returned in the 'refresh_token' field\n",
    "        refresh_token = response.json().get('refreshToken')\n",
    "        return refresh_token\n",
    "    else:\n",
    "        raise Exception(f\"Login failed: {response.status_code} {response.text}\")\n",
    "    \n",
    "\n",
    "def get_access_token(refresh_token):\n",
    "    headers = {\n",
    "        'Content-Type': 'application/json',\n",
    "        'Authorization': f'Bearer {refresh_token}'\n",
    "    }\n",
    "    response = requests.get(token_endpoint, headers=headers)\n",
    "\n",
    "    if response.status_code == 200:\n",
    "        token_data = response.json()\n",
    "        access_token = token_data.get('token')\n",
    "        #token_expiry = token_data.get('tokenExpiry')\n",
    "        return access_token\n",
    "    else:\n",
    "        raise Exception(f\"Token refresh failed: {response.status_code} {response.text}\")\n",
    "\n"
   ]
  },
  {
   "cell_type": "code",
   "execution_count": null,
   "metadata": {},
   "outputs": [],
   "source": [
    "\n",
    "\n",
    "\n",
    "def model_exists(model_name,model_version):\n",
    "    export_model_url = f\"{api_url}/treeNode/model/export/SIMPLE_VIEW/{model_name}/{model_version}\"\n",
    "    \n",
    "    response = requests.get(export_model_url, headers=headers)\n",
    "    \n",
    "    if response.status_code == 200:\n",
    "        return True\n",
    "    elif response.status_code == 404:\n",
    "        return False\n",
    "    else:\n",
    "        raise Exception(f\"Get: {response.status_code} {response.text}\")\n",
    "\n",
    "\n",
    "\n",
    "def get_model(model_name,model_version):\n",
    "    export_model_url = f\"{api_url}/treeNode/model/export/SIMPLE_VIEW/{model_name}/{model_version}\"\n",
    "    \n",
    "    response = requests.get(export_model_url,headers=headers)\n",
    "\n",
    "    if response.status_code == 200:\n",
    "        return response.json()\n",
    "    else:\n",
    "        raise Exception(f\"Getting the model failed: {response.status_code} {response.text}\")\n",
    "\n",
    "\n",
    "\n",
    "def get_model_state(model_name,model_version):\n",
    "    export_model_url = f\"{api_url}/treeNode/model/export/SIMPLE_VIEW/{model_name}/{model_version}\"\n",
    "    \n",
    "    response = requests.get(export_model_url,headers=headers)\n",
    "    \n",
    "    if response.status_code == 200:\n",
    "        return response.json().get('currentState')            \n",
    "    else:\n",
    "        raise Exception(f\"Failed to get the model: {response.status_code} {response.text}\")  \n",
    "\n",
    "\n",
    "\n",
    "def unlock_model(model_name,model_version):\n",
    "    unlock_model_url = f\"{api_url}/treeNode/model/{model_name}/{model_version}/unlock\"\n",
    "\n",
    "    response = requests.put(unlock_model_url,headers=headers)\n",
    "    if response.status_code == 200:\n",
    "        print('model unlocked')\n",
    "    else:\n",
    "        raise Exception(f\"Unlock failed: {response.status_code} {response.text}\")\n",
    "\n",
    "\n",
    "\n",
    "def lock_model(model_name,model_version):\n",
    "    lock_model_url = f\"{api_url}/treeNode/model/{model_name}/{model_version}/lock\"\n",
    "\n",
    "    response = requests.put(lock_model_url,headers=headers)\n",
    "    if response.status_code == 200:\n",
    "        print('model locked')\n",
    "    else:\n",
    "        raise Exception(f\"Lock failed: {response.status_code} {response.text}\")\n",
    "\n",
    "\n",
    "\n",
    "def delete_model(model_name,model_version):\n",
    "    model_url               = f\"{api_url}/treeNode/model/{model_name}/{model_version}\"\n",
    "    \n",
    "    response = requests.delete(model_url,headers=headers)\n",
    "    if response.status_code == 200:\n",
    "        print('model deleted')\n",
    "    else:\n",
    "        raise Exception(f\"Deletion of the model failed: {response.status_code} {response.text}\")\n",
    "\n",
    "\n",
    "\n",
    "def delete_all_entities(model_name,model_version):\n",
    "    delete_entities_url = f\"{api_url}/entity/TREE/{model_name}/{model_version}\"\n",
    "\n",
    "    response = requests.delete(delete_entities_url, headers=headers)\n",
    "\n",
    "    if response.status_code == 200:\n",
    "        return response.json()\n",
    "    else:\n",
    "        raise Exception(f\"Deletion failed: {response.status_code} {response.text}\")\n",
    "\n",
    "\n",
    "def derive_model_from_sample_data(model_name,model_version,payload):\n",
    "    import_model_url = f\"{api_url}/treeNode/model/import/JSON/SAMPLE_DATA/{model_name}/{model_version}\"\n",
    "    response = requests.post(import_model_url, headers=headers, data=payload)\n",
    "    if response.status_code == 200:\n",
    "        return response.text\n",
    "    else:\n",
    "        raise Exception(f\"Save failed: {response.status_code} {response.text}\")\n",
    "\n",
    "def create_entity(model_name,model_version,json_payload):\n",
    "    create_entity_url = f\"{api_url}/entity/JSON/TREE/{model_name}/{model_version}\"\n",
    "\n",
    "    params = {\n",
    "        'transactionTimeoutMillis': '10000'\n",
    "    }\n",
    "\n",
    "    response = requests.post(create_entity_url, headers=headers, params=params, data=json_payload)\n",
    "\n",
    "    if response.status_code == 200:\n",
    "        json_response = response.json()\n",
    "        print(response.text)\n",
    "        \n",
    "        # Assert that there is only one transaction\n",
    "        assert len(json_response) == 1, f\"Expected 1 transaction, but got {len(json_response)}\"\n",
    "        \n",
    "        transaction = json_response[0]\n",
    "        entity_ids = transaction['entityIds']\n",
    "        \n",
    "        # Assert that the list of entityIds has exactly one element\n",
    "        assert len(entity_ids) == 1, f\"Expected 1 entityId, but got {len(entity_ids)}\"\n",
    "        \n",
    "        return entity_ids[0]\n",
    "    else:\n",
    "        raise Exception(f\"Save failed: {response.status_code} {response.text}\")\n",
    "\n",
    "def find_update_transition(entity_id):\n",
    "    get_transitions_url = f\"{api_url}/platform-api/entity/fetch/transitions\"\n",
    "\n",
    "    params = {\n",
    "        'entityClass': 'com.cyoda.tdb.model.treenode.TreeNodeEntity',\n",
    "        'entityId': f\"{entity_id}\"\n",
    "    }\n",
    "    \n",
    "    print(f\"Getting possible transitions for {entity_id})\")\n",
    "    \n",
    "    response = requests.get(get_transitions_url, headers=headers, params=params)\n",
    "    \n",
    "    if response.status_code == 200:\n",
    "        json_response = response.json()\n",
    "        \n",
    "        print(json.dumps(json_response, indent=4))\n",
    "        \n",
    "        # Find the first item that starts with 'update' (ignoring case)\n",
    "        try:\n",
    "            update_transition = next(item for item in json_response if item.lower().startswith('update'))\n",
    "        except StopIteration:\n",
    "            raise ValueError(\"No item starting with 'update' was found in the response (case-insensitive).\")\n",
    "    \n",
    "    else:\n",
    "        raise Exception(f\"Getting transitions failed: {response.status_code} {response.text}\")\n",
    "\n",
    "    return update_transition\n",
    "\n",
    "\n",
    "def update_entity(entity_id,json_payload):\n",
    "    update_entity_url = f\"{api_url}/entity/JSON/TREE/{entity_id}/{update_transition}\"\n",
    "\n",
    "    params = {\n",
    "    'transactionTimeoutMillis': '10000'\n",
    "    }\n",
    "    response = requests.put(update_entity_url, headers=headers, params=params, data=json_payload)\n",
    "\n",
    "    if response.status_code == 200:\n",
    "        json_response = response.json()\n",
    "        \n",
    "        entity_ids = json_response['entityIds']\n",
    "        \n",
    "        # Assert that the list of entityIds has exactly one element\n",
    "        assert len(entity_ids) == 1, f\"Expected 1 entityId, but got {len(entity_ids)}\"\n",
    "        \n",
    "        assert entity_id == entity_ids[0]\n",
    "    else:\n",
    "        raise Exception(f\"Update failed: {response.status_code} {response.text}\")\n",
    "\n",
    "    return json_response\n"
   ]
  },
  {
   "cell_type": "markdown",
   "metadata": {},
   "source": [
    "## Login to get a long lived refresh token"
   ]
  },
  {
   "cell_type": "code",
   "execution_count": null,
   "metadata": {},
   "outputs": [],
   "source": [
    "refresh_token = login_and_get_refresh_token(credentials=credentials)"
   ]
  },
  {
   "cell_type": "markdown",
   "metadata": {},
   "source": [
    "## Get an access token from the refresh token\n",
    "Although the login will give you an access token, in secure environments, this will be short lived. So it's better to use the refresh token to get an access token each time"
   ]
  },
  {
   "cell_type": "code",
   "execution_count": null,
   "metadata": {},
   "outputs": [],
   "source": [
    "access_token = get_access_token(refresh_token=refresh_token)\n",
    "headers = {\n",
    "        'Content-Type': 'application/json',\n",
    "        'Authorization': f'Bearer {access_token}'\n",
    "    }"
   ]
  },
  {
   "cell_type": "markdown",
   "metadata": {},
   "source": [
    "## Check if the nobel prize model exists"
   ]
  },
  {
   "cell_type": "code",
   "execution_count": null,
   "metadata": {},
   "outputs": [],
   "source": [
    "model_exists = model_exists(model_name,model_version)\n",
    "print(f\"model_exists = {model_exists}\")"
   ]
  },
  {
   "cell_type": "markdown",
   "metadata": {},
   "source": [
    "## Delete any data present for that model"
   ]
  },
  {
   "cell_type": "code",
   "execution_count": null,
   "metadata": {},
   "outputs": [],
   "source": [
    "import requests\n",
    "import json\n",
    "\n",
    "if model_exists:\n",
    "    print(f\"Deleting all data for model {model_name} {model_version}\")\n",
    "    delete_result = delete_all_entities(model_name,model_version)\n",
    "    print(delete_result)\n",
    "else:\n",
    "    print('Nothing to delete. Model does not exist')"
   ]
  },
  {
   "cell_type": "markdown",
   "metadata": {},
   "source": [
    "## Unlock the model if locked"
   ]
  },
  {
   "cell_type": "code",
   "execution_count": null,
   "metadata": {},
   "outputs": [],
   "source": [
    "import requests\n",
    "import json\n",
    "\n",
    "if model_exists:\n",
    "    current_model_state = get_model_state(model_name,model_version)\n",
    "    \n",
    "    if current_model_state == 'LOCKED':\n",
    "        unlock_model(model_name,model_version)\n",
    "    else:\n",
    "        print('Model not locked')"
   ]
  },
  {
   "cell_type": "markdown",
   "metadata": {},
   "source": [
    "## Delete the model\n",
    "but only if it exists"
   ]
  },
  {
   "cell_type": "code",
   "execution_count": null,
   "metadata": {},
   "outputs": [],
   "source": [
    "import requests\n",
    "import json\n",
    "\n",
    "if model_exists:\n",
    "    delete_model(model_name,model_version)\n"
   ]
  },
  {
   "cell_type": "markdown",
   "metadata": {},
   "source": [
    "## Use sample data to define the model"
   ]
  },
  {
   "cell_type": "code",
   "execution_count": null,
   "metadata": {},
   "outputs": [],
   "source": [
    "import json\n",
    "\n",
    "\n",
    "# This sample contains the valid structure for the model\n",
    "file_path = './src/main/resources/cyoda/config/nobel-prizes/sample-data/prize-physics-2019.json'\n",
    "\n",
    "with open(file_path, 'r') as file:\n",
    "     file_contents = json.load(file)\n",
    "\n",
    "payload = json.dumps(file_contents)\n",
    "\n",
    "model_id = derive_model_from_sample_data(model_name,model_version,payload)\n",
    "\n",
    "print(f\"model id = {model_id}\")\n"
   ]
  },
  {
   "cell_type": "markdown",
   "metadata": {},
   "source": [
    "## Get the model and print it"
   ]
  },
  {
   "cell_type": "code",
   "execution_count": null,
   "metadata": {},
   "outputs": [],
   "source": [
    "import requests\n",
    "import json\n",
    "\n",
    "model_view = get_model(model_name,model_version)\n",
    "print(json.dumps(model_view, indent=4))\n"
   ]
  },
  {
   "cell_type": "markdown",
   "metadata": {},
   "source": [
    "## Lock the model\n",
    "We have to lock models before we can save data against it"
   ]
  },
  {
   "cell_type": "code",
   "execution_count": null,
   "metadata": {},
   "outputs": [],
   "source": [
    "lock_model(model_name,model_version)"
   ]
  },
  {
   "cell_type": "markdown",
   "metadata": {},
   "source": [
    "## Save an entity\n",
    "We will save a partial data set for nobel prizes and then update it with a full set afterwards, to demonstrate also how to update entities.\n",
    "We'll capture the entity id for later use."
   ]
  },
  {
   "cell_type": "code",
   "execution_count": null,
   "metadata": {},
   "outputs": [],
   "source": [
    "# This dataset in only a partial list of all prizes\n",
    "file_path = './src/main/resources/cyoda/config/nobel-prizes/sample-data/prize-2010-2020.json'\n",
    "\n",
    "with open(file_path, 'r') as file:\n",
    "    file_contents = json.load(file)\n",
    "    \n",
    "json_payload = json.dumps(file_contents)\n",
    "entity_id = create_entity(model_name,model_version,json_payload)    \n"
   ]
  },
  {
   "cell_type": "markdown",
   "metadata": {},
   "source": [
    "## Update an entity\n",
    "Now we'll update the entity with the full nobel prize dataset.\n",
    "To update we do a PUT request with the transition name as part of the request path.\n",
    "\n",
    "Since the workflow is configurable and can be different for different entities and also depends on the entity state, theoreticall, we need to get the state of the transition, and the possible transitions for that entity in that state.\n",
    "\n",
    "You can get the possible transitions for a given entity in a separate request. We haven't yet provided a CaaS specific endpoint for this, so we have to use the platform endpoint, where you must pass the actual Cyoda POJO entity that physically stores your data.\n",
    "\n",
    "### Find the update transition"
   ]
  },
  {
   "cell_type": "code",
   "execution_count": null,
   "metadata": {},
   "outputs": [],
   "source": [
    "update_transition = find_update_transition(entity_id)\n",
    "print(f\"Using transition: {update_transition}\")"
   ]
  },
  {
   "cell_type": "markdown",
   "metadata": {},
   "source": [
    "### Do the update with the right transition\n",
    "Now that we have found the right transition for this entity in its current state, we can launch the update with that transition.\n",
    "\n",
    "In other words, if you run this twice, the assertions will fail."
   ]
  },
  {
   "cell_type": "code",
   "execution_count": null,
   "metadata": {},
   "outputs": [],
   "source": [
    "import json\n",
    "import time\n",
    "\n",
    "# This dataset in has all prizes until a recent date, I think 2020\n",
    "file_path = './src/main/resources/cyoda/config/nobel-prizes/sample-data/prize.json'\n",
    "\n",
    "with open(file_path, 'r') as file:\n",
    "     file_contents = json.load(file)\n",
    "\n",
    "json_payload = json.dumps(file_contents)\n",
    "print(f\"launching update on entity {entity_id}...\")\n",
    "json_response = update_entity(entity_id,json_payload)\n",
    "\n",
    "print(json.dumps(json_response, indent=4))"
   ]
  },
  {
   "cell_type": "code",
   "execution_count": null,
   "metadata": {},
   "outputs": [],
   "source": []
  }
 ],
 "metadata": {
  "kernelspec": {
   "display_name": "Python 3 (ipykernel)",
   "language": "python",
   "name": "python3"
  },
  "language_info": {
   "codemirror_mode": {
    "name": "ipython",
    "version": 3
   },
   "file_extension": ".py",
   "mimetype": "text/x-python",
   "name": "python",
   "nbconvert_exporter": "python",
   "pygments_lexer": "ipython3",
   "version": "3.12.3"
  }
 },
 "nbformat": 4,
 "nbformat_minor": 4
}
