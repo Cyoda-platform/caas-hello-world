{
 "cells": [
  {
   "cell_type": "markdown",
   "metadata": {},
   "source": [
    "# Exporting the Cyoda configuration from a given environment"
   ]
  },
  {
   "cell_type": "code",
   "execution_count": 2,
   "metadata": {},
   "outputs": [
    {
     "name": "stdin",
     "output_type": "stream",
     "text": [
      "Enter your password: ········\n"
     ]
    },
    {
     "name": "stdout",
     "output_type": "stream",
     "text": [
      "saved src/main/resources/cyoda/config/nobel-prizes/cyoda-config/distributed_reporting.json\n",
      "saved src/main/resources/cyoda/config/nobel-prizes/cyoda-config/stream_data.json\n",
      "saved src/main/resources/cyoda/config/nobel-prizes/cyoda-config/alias_catalog.json\n",
      "saved src/main/resources/cyoda/config/nobel-prizes/cyoda-config/composite_indexes.json\n",
      "saved src/main/resources/cyoda/config/nobel-prizes/cyoda-config/statemachine.json\n",
      "saved src/main/resources/cyoda/config/nobel-prizes/cyoda-config/cobi.json\n",
      "finish export configs\n"
     ]
    }
   ],
   "source": [
    "import getpass\n",
    "import sys\n",
    "import os\n",
    "\n",
    "# Replace these with the settings for your environment\n",
    "host = 'http://localhost:8082/api'\n",
    "user = 'demo.user'\n",
    "password_file = '/Users/paul/.cyoda/demo.passwd'\n",
    "\n",
    "target_dir = 'src/main/resources/cyoda/config/nobel-prizes/cyoda-config'\n",
    "\n",
    "if os.path.exists(password_file):\n",
    "    !{sys.executable} src/tools/cyoda_config_ctl.py \\\n",
    "        -m export \\\n",
    "        -host \"{host}\" \\\n",
    "        -u \"{user}\" \\\n",
    "        -pf \"{password_file}\" \\\n",
    "        -fd \"{target_dir}\" \\\n",
    "        --need_to_export_state_machine true\n",
    "else:\n",
    "    password = getpass.getpass('Enter your password:')\n",
    "    \n",
    "    !{sys.executable} src/tools/cyoda_config_ctl.py \\\n",
    "        -m export \\\n",
    "        -host \"{host}\" \\\n",
    "        -u \"{user}\" \\\n",
    "        -pw \"{password}\" \\\n",
    "        -fd \"{target_dir}\" \\\n",
    "        --need_to_export_state_machine true"
   ]
  },
  {
   "cell_type": "markdown",
   "metadata": {},
   "source": [
    "# Importing the Cyoda configuration to a target environment"
   ]
  },
  {
   "cell_type": "code",
   "execution_count": 3,
   "metadata": {},
   "outputs": [
    {
     "name": "stdout",
     "output_type": "stream",
     "text": [
      "imported src/main/resources/cyoda/config/nobel-prizes/cyoda-config/distributed_reporting.json\n",
      "imported src/main/resources/cyoda/config/nobel-prizes/cyoda-config/stream_data.json\n",
      "imported src/main/resources/cyoda/config/nobel-prizes/cyoda-config/alias_catalog.json\n",
      "imported src/main/resources/cyoda/config/nobel-prizes/cyoda-config/composite_indexes.json\n",
      "imported src/main/resources/cyoda/config/nobel-prizes/cyoda-config/statemachine.json\n",
      "imported src/main/resources/cyoda/config/nobel-prizes/cyoda-config/cobi.json\n",
      "finish import configs\n"
     ]
    }
   ],
   "source": [
    "import getpass\n",
    "import sys\n",
    "import os\n",
    "\n",
    "# Replace these with the settings for your environment\n",
    "host = 'http://localhost:8082/api'\n",
    "user = 'demo.user'\n",
    "password_file = '/Users/paul/.cyoda/demo.passwd'\n",
    "\n",
    "target_dir = 'src/main/resources/cyoda/config/nobel-prizes/cyoda-config'\n",
    "\n",
    "if os.path.exists(password_file):\n",
    "    !{sys.executable} src/tools/cyoda_config_ctl.py \\\n",
    "        -m 'import' \\\n",
    "        -host \"{host}\" \\\n",
    "        -u \"{user}\" \\\n",
    "        -pf \"{password_file}\" \\\n",
    "        -fd \"{target_dir}\" \\\n",
    "        --need_to_import_state_machine true\n",
    "else:\n",
    "    password = getpass.getpass('Enter your password:')\n",
    "    \n",
    "    !{sys.executable} src/tools/cyoda_config_ctl.py \\\n",
    "        -m 'import' \\\n",
    "        -host \"{host}\" \\\n",
    "        -u \"{user}\" \\\n",
    "        -pw \"{password}\" \\\n",
    "        -fd \"{target_dir}\" \\\n",
    "        --need_to_import_state_machine true"
   ]
  }
 ],
 "metadata": {
  "kernelspec": {
   "display_name": "Python 3 (ipykernel)",
   "language": "python",
   "name": "python3"
  },
  "language_info": {
   "codemirror_mode": {
    "name": "ipython",
    "version": 3
   },
   "file_extension": ".py",
   "mimetype": "text/x-python",
   "name": "python",
   "nbconvert_exporter": "python",
   "pygments_lexer": "ipython3",
   "version": "3.12.3"
  }
 },
 "nbformat": 4,
 "nbformat_minor": 4
}
